{
 "cells": [
  {
   "cell_type": "markdown",
   "metadata": {},
   "source": [
    "## Problem Set 2: Merging and regular expressions\n",
    "\n",
    "**Total points (without extra credit)**: 30 \n",
    "\n",
    "**Background on the policy context**: here, we're going to use two datasets to practice reshaping, merging, and regular expression patterns. Both datasets relate to the broader issue of which employers might be violating the rights of temporary guestworkers granted visas under the H-2A program. Here are some articles about potential exploitation of guestworkers by firms and inequality caused by minimal oversight:\n",
    "\n",
    "- News media coverage of labor abuses of temporary guestworkers: https://www.buzzfeednews.com/article/kenbensinger/the-pushovers \n",
    "- GAO report on labor abuses of temporary guestworkers: https://www.gao.gov/products/gao-15-154\n",
    "\n",
    "The following datasets are located in `pset2_inputdata` (need to unzip): \n",
    "\n",
    "- `jobs_clean`: a dataset of guestworker jobs posted by many employers, some of whom have been debarred (banned) from the program for labor abuses; others not debarred\n",
    "- `debar`: a dataset of employers who committed violations of labor regulations meant to protect temporary guestworkers \n",
    "\n",
    "\n",
    "You can view a codebook here: https://docs.google.com/spreadsheets/d/1rF9GJEC8pPKxipD0TsoG9DVdqz3EJ-b-BHEtyioAX7I/edit?usp=sharing\n"
   ]
  },
  {
   "cell_type": "code",
   "execution_count": 2,
   "metadata": {},
   "outputs": [],
   "source": [
    "## helpful packages\n",
    "import pandas as pd\n",
    "import numpy as np\n",
    "import random\n",
    "import re\n",
    "import os\n",
    "\n",
    "## repeated printouts\n",
    "from IPython.core.interactiveshell import InteractiveShell\n",
    "InteractiveShell.ast_node_interactivity = \"all\"\n"
   ]
  },
  {
   "cell_type": "markdown",
   "metadata": {},
   "source": [
    "# 1. Reshaping data (13 points total)"
   ]
  },
  {
   "cell_type": "markdown",
   "metadata": {},
   "source": [
    "Load the following dataset stored in `pset2_inputdata`: `debar.csv`\n",
    "\n",
    "This represents employers temporarily banned from hiring workers (debar.csv); call this `debar`\n",
    "\n",
    "\n",
    "View the head()\n"
   ]
  },
  {
   "cell_type": "code",
   "execution_count": 3,
   "metadata": {},
   "outputs": [
    {
     "data": {
      "text/html": [
       "<div>\n",
       "<style scoped>\n",
       "    .dataframe tbody tr th:only-of-type {\n",
       "        vertical-align: middle;\n",
       "    }\n",
       "\n",
       "    .dataframe tbody tr th {\n",
       "        vertical-align: top;\n",
       "    }\n",
       "\n",
       "    .dataframe thead th {\n",
       "        text-align: right;\n",
       "    }\n",
       "</style>\n",
       "<table border=\"1\" class=\"dataframe\">\n",
       "  <thead>\n",
       "    <tr style=\"text-align: right;\">\n",
       "      <th></th>\n",
       "      <th>Name</th>\n",
       "      <th>City, State</th>\n",
       "      <th>Violation</th>\n",
       "      <th>Duration</th>\n",
       "      <th>Start date</th>\n",
       "      <th>End date</th>\n",
       "    </tr>\n",
       "  </thead>\n",
       "  <tbody>\n",
       "    <tr>\n",
       "      <th>0</th>\n",
       "      <td>J&amp;J Harvesting</td>\n",
       "      <td>Leads, ND</td>\n",
       "      <td>Failure to respond to audit (partial response)</td>\n",
       "      <td>2 years</td>\n",
       "      <td>1/19/2014</td>\n",
       "      <td>1/18/2016</td>\n",
       "    </tr>\n",
       "    <tr>\n",
       "      <th>1</th>\n",
       "      <td>Stahlman Apiaries, Inc</td>\n",
       "      <td>Selby, SD</td>\n",
       "      <td>Failure to respond to audit (partial response)</td>\n",
       "      <td>1 year</td>\n",
       "      <td>2/19/2015</td>\n",
       "      <td>2/14/2016</td>\n",
       "    </tr>\n",
       "    <tr>\n",
       "      <th>2</th>\n",
       "      <td>Trust Nursery</td>\n",
       "      <td>Pulaski, NY</td>\n",
       "      <td>Failure to respond to audit (partial response)</td>\n",
       "      <td>1 year</td>\n",
       "      <td>3/21/2014</td>\n",
       "      <td>3/20/2015</td>\n",
       "    </tr>\n",
       "    <tr>\n",
       "      <th>3</th>\n",
       "      <td>Anton Fertilizer Inc.</td>\n",
       "      <td>Dighton, KS</td>\n",
       "      <td>Failure to respond to audit (no response)</td>\n",
       "      <td>2 years</td>\n",
       "      <td>3/30/2014</td>\n",
       "      <td>3/29/2016</td>\n",
       "    </tr>\n",
       "    <tr>\n",
       "      <th>4</th>\n",
       "      <td>Great Plains Fluid Service, Inc.</td>\n",
       "      <td>Greensburg, KS</td>\n",
       "      <td>Failure to respond to audit (no response)</td>\n",
       "      <td>2 years</td>\n",
       "      <td>3/30/2014</td>\n",
       "      <td>3/29/2016</td>\n",
       "    </tr>\n",
       "  </tbody>\n",
       "</table>\n",
       "</div>"
      ],
      "text/plain": [
       "                               Name     City, State  \\\n",
       "0                    J&J Harvesting       Leads, ND   \n",
       "1            Stahlman Apiaries, Inc       Selby, SD   \n",
       "2                     Trust Nursery     Pulaski, NY   \n",
       "3             Anton Fertilizer Inc.     Dighton, KS   \n",
       "4  Great Plains Fluid Service, Inc.  Greensburg, KS   \n",
       "\n",
       "                                        Violation Duration Start date  \\\n",
       "0  Failure to respond to audit (partial response)  2 years  1/19/2014   \n",
       "1  Failure to respond to audit (partial response)   1 year  2/19/2015   \n",
       "2  Failure to respond to audit (partial response)   1 year  3/21/2014   \n",
       "3       Failure to respond to audit (no response)  2 years  3/30/2014   \n",
       "4       Failure to respond to audit (no response)  2 years  3/30/2014   \n",
       "\n",
       "    End date  \n",
       "0  1/18/2016  \n",
       "1  2/14/2016  \n",
       "2  3/20/2015  \n",
       "3  3/29/2016  \n",
       "4  3/29/2016  "
      ]
     },
     "execution_count": 3,
     "metadata": {},
     "output_type": "execute_result"
    }
   ],
   "source": [
    "debar = pd.read_csv('debar.csv')\n",
    "debar.head()"
   ]
  },
  {
   "cell_type": "markdown",
   "metadata": {},
   "source": [
    "## 1.1 (1 point)\n",
    "\n",
    "Print the number of rows in `debar` versus the number of unique employer names (`Name`). Is there one row per employer or multiple rows for some employers?"
   ]
  },
  {
   "cell_type": "code",
   "execution_count": 4,
   "metadata": {},
   "outputs": [
    {
     "data": {
      "text/plain": [
       "114"
      ]
     },
     "execution_count": 4,
     "metadata": {},
     "output_type": "execute_result"
    },
    {
     "data": {
      "text/plain": [
       "98"
      ]
     },
     "execution_count": 4,
     "metadata": {},
     "output_type": "execute_result"
    }
   ],
   "source": [
    "len(debar)\n",
    "debar.Name.nunique()"
   ]
  },
  {
   "cell_type": "markdown",
   "metadata": {},
   "source": [
    "### there are multiple rows for some employers"
   ]
  },
  {
   "cell_type": "markdown",
   "metadata": {},
   "source": [
    "## 1.2 Investigating duplicated rows (2 points)\n",
    "\n",
    "A. Create a new column in `debar`--`is_repeated`-- that tells us whether an employer (`Name`) is repeated > 1 times\n",
    "\n",
    "*Hint*: there are multiple ways to solve this but some possibilities to get the list of names that are repeated are:\n",
    "- Using value_counts() on the `Name` variable and extracting the index from that value counts \n",
    "- Using groupby to count the rows attached to one name\n",
    "\n",
    "B. Print the rows where `is_repeated == True` and interpret\n",
    "\n",
    "C. Subset to the rows where `is_repeated == True` and save that data as `mult_debar`. Print the head() and shape"
   ]
  },
  {
   "cell_type": "code",
   "execution_count": 5,
   "metadata": {},
   "outputs": [
    {
     "data": {
      "text/plain": [
       "(32, 7)"
      ]
     },
     "execution_count": 5,
     "metadata": {},
     "output_type": "execute_result"
    }
   ],
   "source": [
    "employer_counts = debar['Name'].value_counts()\n",
    "debar['is_repeated'] = debar['Name'].map(lambda x: x in employer_counts[employer_counts > 1])\n",
    "mult_debar = debar[debar['is_repeated'] == True]\n",
    "mult_debar.shape"
   ]
  },
  {
   "cell_type": "markdown",
   "metadata": {},
   "source": [
    "## 1.3 Reshape mult_debar to wide to begin filtering out duplicates (4 points)\n",
    "\n",
    "You want to separate out two cases:\n",
    "\n",
    "- Cases where the repeat rows for one employer are due to duplicated data \n",
    "- Cases where the repeat rows for one employer represent repeated violations for different issues\n",
    "\n",
    "There are various ways to check duplicates in this data (eg converting `Violation` to lowercase; replacing spelled-out states with two-dig state codes)\n",
    "\n",
    "We're going to use the simple rule of:\n",
    "\n",
    "- A row is a duplicate if, within an employer (defined by Name + City, State), the Start date for each row's violation is the same \n",
    "\n",
    "To begin to check this, reshape `mult_debar` to a wide dataframe (`mult_debar_wide`) with the following columns, treating the `Name` and `City, State` as the index for the pivot:\n",
    "\n",
    "- Name\n",
    "- City, State\n",
    "- start_date_viol1\n",
    "- start_date_viol2\n",
    "\n",
    "Print the head and shape"
   ]
  },
  {
   "cell_type": "code",
   "execution_count": null,
   "metadata": {},
   "outputs": [],
   "source": [
    "## your code here"
   ]
  },
  {
   "cell_type": "markdown",
   "metadata": {},
   "source": [
    "## 1.4 Filter out duplicates from original debar data (6 points)\n",
    "\n",
    "A. Using `mult_debar_wide`, add a column `is_dup` that takes value of True for cases where start_date_viol1 == start_date_viol2 marking the row as a duplicate\n",
    "\n",
    "B. Going back to the original long-format data you loaded at the beginning- `debar`\n",
    "    - For employers where `is_dup == True` as indicated by your wide-format dataframe, only keep `violnum == viol1`\n",
    "    - For all other employers (so is_dup == False and ones we didnt need to check duplicates for), keep all violnum\n",
    "    - Remove the `is_repeated` column from the `debar` data\n",
    "\n",
    "**Hint**: you can complete part B without a for loop; `pd.concat` with axis = 0 (row binding) is one way\n",
    "\n",
    "Call the resulting dataframe `debar_clean` and print the shape and # of unique employer names"
   ]
  },
  {
   "cell_type": "code",
   "execution_count": 6,
   "metadata": {},
   "outputs": [
    {
     "ename": "NameError",
     "evalue": "name 'mult_debar_wide' is not defined",
     "output_type": "error",
     "traceback": [
      "\u001b[0;31m---------------------------------------------------------------------------\u001b[0m",
      "\u001b[0;31mNameError\u001b[0m                                 Traceback (most recent call last)",
      "Cell \u001b[0;32mIn[6], line 1\u001b[0m\n\u001b[0;32m----> 1\u001b[0m mult_debar_wide[\u001b[38;5;124m'\u001b[39m\u001b[38;5;124mis_dup\u001b[39m\u001b[38;5;124m'\u001b[39m] \u001b[38;5;241m=\u001b[39m np\u001b[38;5;241m.\u001b[39mwhere(mult_debar_wide[\u001b[38;5;124m'\u001b[39m\u001b[38;5;124mstart_date_viol1\u001b[39m\u001b[38;5;124m'\u001b[39m] \u001b[38;5;241m==\u001b[39m mult_debar_wide[\u001b[38;5;124m'\u001b[39m\u001b[38;5;124mstart_date_viol2\u001b[39m\u001b[38;5;124m'\u001b[39m], \n\u001b[1;32m      2\u001b[0m                                      \u001b[38;5;28;01mTrue\u001b[39;00m, \u001b[38;5;28;01mFalse\u001b[39;00m)\n",
      "\u001b[0;31mNameError\u001b[0m: name 'mult_debar_wide' is not defined"
     ]
    }
   ],
   "source": [
    "mult_debar_wide['is_dup'] = np.where(mult_debar_wide['start_date_viol1'] == mult_debar_wide['start_date_viol2'], \n",
    "                                     True, False)"
   ]
  },
  {
   "cell_type": "markdown",
   "metadata": {},
   "source": [
    "# 2. Merging and regex (17 points total)\n",
    "\n"
   ]
  },
  {
   "cell_type": "markdown",
   "metadata": {},
   "source": [
    "## 2.1 Load data on job postings\n",
    "\n",
    "The previous dataset contains a small subset of employers who faced temporary bans due to violations of H-2A program regulations\n",
    "\n",
    "Since most of the bans have expired, we're going to see which of those employers posted new H-2A jobs in the first quarter of 2021 \n",
    "\n",
    "Loading the `jobs_clean.csv` data stored in `pset4_inputdata`"
   ]
  },
  {
   "cell_type": "code",
   "execution_count": 2,
   "metadata": {},
   "outputs": [],
   "source": [
    "jobs = pd.read_csv('jobs.csv')\n"
   ]
  },
  {
   "cell_type": "markdown",
   "metadata": {},
   "source": [
    "##  2.2 Try inner join on employer name  (2 points)\n",
    "\n",
    "- Use the `EMPLOYER_NAME` field of the `jobs` dataset\n",
    "- Use the `Name` field of the `debar_clean` dataset \n",
    "\n",
    "A. Use pd.merge with an inner join on those fields to see whether there are any exact matches. \n",
    "\n",
    "B. If there are exact matches, print the row(s) with exact matches\n",
    "\n"
   ]
  },
  {
   "cell_type": "code",
   "execution_count": 6,
   "metadata": {},
   "outputs": [
    {
     "name": "stdout",
     "output_type": "stream",
     "text": [
      "          CASE_NUMBER                           CASE_STATUS  \\\n",
      "0  H-300-20287-876656  Determination Issued - Certification   \n",
      "\n",
      "             RECEIVED_DATE            DECISION_DATE  \\\n",
      "0  2020-10-20 09:20:32.010  2020-11-09 00:00:00.000   \n",
      "\n",
      "  TYPE_OF_EMPLOYER_APPLICATION H2A_LABOR_CONTRACTOR NATURE_OF_TEMPORARY_NEED  \\\n",
      "0          Individual Employer                    Y                 Seasonal   \n",
      "\n",
      "  EMERGENCY_FILING   EMPLOYER_NAME TRADE_NAME_DBA  ... PHONE_TO_APPLY  \\\n",
      "0                Y  Rafael Barajas            NaN  ...    18632732686   \n",
      "\n",
      "  EMAIL_TO_APPLY               WEBSITE_TO_APPLY TOTAL_ADDENDUM_A_RECORDS  \\\n",
      "0            NaN  https://seasonaljobs.dol.gov/                        7   \n",
      "\n",
      "             Name       City, State                         Violation  \\\n",
      "0  Rafael Barajas  Sebring, Florida  Non-payment of certification fee   \n",
      "\n",
      "   Duration  Start date   End date  \n",
      "0    1 year   9/23/2016  9/22/2017  \n",
      "\n",
      "[1 rows x 144 columns]\n"
     ]
    }
   ],
   "source": [
    "df22 = jobs.merge(debar, left_on = 'EMPLOYER_NAME', right_on = 'Name')\n",
    "print(df22)"
   ]
  },
  {
   "cell_type": "markdown",
   "metadata": {},
   "source": [
    "## 2.3 Targeted regex (10 points total)\n",
    "\n",
    "You want to see if you can increase the exact match rate with some basic cleaning of each \n",
    "of the employer name fields in each dataset "
   ]
  },
  {
   "cell_type": "markdown",
   "metadata": {},
   "source": [
    "### 2.3.1 Converting to upper (2 points)\n",
    "\n",
    "A. Convert the `EMPLOYER_NAME` and `Name` fields to uppercase using list comprehension rather than df.varname.str.upper() (it's fine to do a separate list comprehension line for each of the two columns)\n",
    "\n",
    "B. Print a random sample of 15 values of each result\n",
    "\n",
    "C. Assign the full vector of uppercase names back to the original data, writing over the original `EMPLOYER_NAME` and `Name` columns \n"
   ]
  },
  {
   "cell_type": "code",
   "execution_count": 10,
   "metadata": {},
   "outputs": [],
   "source": [
    "jobs.EMPLOYER_NAME = [c.upper() for c in jobs.EMPLOYER_NAME]\n",
    "debar.Name = [c.upper() for c in debar.Name]"
   ]
  },
  {
   "cell_type": "code",
   "execution_count": 11,
   "metadata": {},
   "outputs": [
    {
     "data": {
      "text/plain": [
       "2191              WESTERN RANGE ASSOCIATION\n",
       "1941                      BRB LIVESTOCK INC\n",
       "2300                               OL FARMS\n",
       "2638    DAN & JERRY'S GREENHOUSE, INC. - MN\n",
       "1923             MIDDLETON PLANTING COMPANY\n",
       "1934                   JACKSON CITRUS, INC.\n",
       "527                    FRESH TULIPS USA LLC\n",
       "1355                            BANDY RANCH\n",
       "165                      KEVIN JOHN REINERS\n",
       "2065              BARRY'S GROUND COVER, LLC\n",
       "1254                           COREY J HILL\n",
       "854                       STEVEN L. HARNAGE\n",
       "1840                 C & J SMITH FARMS, LLC\n",
       "1689              BLOMS LAND AND CATTLE LLC\n",
       "446                               D&L FARMS\n",
       "Name: EMPLOYER_NAME, dtype: object"
      ]
     },
     "execution_count": 11,
     "metadata": {},
     "output_type": "execute_result"
    },
    {
     "data": {
      "text/plain": [
       "6           ANNABELLA LAND & CATTLE\n",
       "24      ROLLO FARM LABOR CONTRACTOR\n",
       "9                    YOLANDA CHAVEZ\n",
       "43         HAITI/USA WORKFORCE, LLC\n",
       "75            C HANGING L RANCH LLP\n",
       "67                   ROSALVA GARCIA\n",
       "47                     PETER PETERS\n",
       "58                        F&W FARMS\n",
       "80                  M KENESTON CORP\n",
       "44                   CHRIS ROBINSON\n",
       "62                    SHARON MATHIS\n",
       "93                 DEAL FAMILY FARM\n",
       "48            PEACH CREST FARM, LLC\n",
       "49    CITY PINESTRAW AND HARVESTING\n",
       "76                 ROBERT D. TOWLES\n",
       "Name: Name, dtype: object"
      ]
     },
     "execution_count": 11,
     "metadata": {},
     "output_type": "execute_result"
    }
   ],
   "source": [
    "jobs.EMPLOYER_NAME.sample(n=15)\n",
    "debar.Name.sample(n=15)"
   ]
  },
  {
   "cell_type": "code",
   "execution_count": null,
   "metadata": {},
   "outputs": [],
   "source": [
    "## insert your code for assigning the uppercase names back to the data\n",
    "\n",
    "# DONE IN ONE STEP PART A"
   ]
  },
  {
   "cell_type": "markdown",
   "metadata": {},
   "source": [
    "### 2.3.2 Cleaning up punctuation (4 points)\n",
    "\n",
    "You notice that INC, CO, and LLC are sometimes followed by a period (.) but sometimes not\n",
    "\n",
    "A. For each dataset, write a regex pattern using `re.sub` to remove the . but only if it's preceded by INC, LLC, or CO \n",
    "\n",
    "Make sure LLC, INC, CO remain part of the string but just without the dot\n",
    "\n",
    "B. Test the pattern on the positive and negative example we provide below and print the result. See the Github issue for examples of what to return\n",
    "\n",
    "\n",
    "**Hint**: https://stackoverflow.com/questions/7191209/python-re-sub-replace-with-matched-content\n",
    "\n"
   ]
  },
  {
   "cell_type": "code",
   "execution_count": 13,
   "metadata": {},
   "outputs": [],
   "source": [
    "pos_example_1 = \"CISCO PRODUCE INC.\"\n",
    "pos_example_2 = \"AVOYELLES HONEY CO., LLC\"\n",
    "neg_example = \"E.V. RANCH LLP\""
   ]
  },
  {
   "cell_type": "code",
   "execution_count": 21,
   "metadata": {},
   "outputs": [
    {
     "data": {
      "text/plain": [
       "'E.V. RANCH LLP'"
      ]
     },
     "execution_count": 21,
     "metadata": {},
     "output_type": "execute_result"
    }
   ],
   "source": [
    "pattern232 = r'(INC|CO|LLC)(\\.)'\n",
    "new1 = re.sub(pattern232, r'\\1', pos_example_1)\n",
    "new2 = re.sub(pattern232, r'\\1', pos_example_2)\n",
    "new3 = re.sub(pattern232, r'\\1', neg_example)"
   ]
  },
  {
   "cell_type": "markdown",
   "metadata": {},
   "source": [
    "### 2.3.3 (4 points)\n",
    "\n",
    "Use that pattern in conjunction with `re.sub` and list comprehension to clean the employer name columns in each dataset. Save the new columns as `name_clean` in each. Then, use row subsetting to (1) subset to rows that changed names and (2) for:\n",
    "\n",
    "- `debar_clean` print the `Name` and `name_clean` columns\n",
    "- `jobs` print the `EMPLOYER_NAME` and `name_clean` columns\n",
    "\n",
    "Make sure to use the uppercase versions of the variables\n"
   ]
  },
  {
   "cell_type": "code",
   "execution_count": null,
   "metadata": {},
   "outputs": [],
   "source": [
    "## your code here to clean the columns"
   ]
  },
  {
   "cell_type": "code",
   "execution_count": 23,
   "metadata": {},
   "outputs": [],
   "source": [
    "debar['name_clean'] = [re.sub(pattern232, r'\\1', c) for c in debar.Name]\n",
    "jobs['name_clean'] = [re.sub(pattern232, r'\\1', c) for c in jobs.EMPLOYER_NAME]"
   ]
  },
  {
   "cell_type": "code",
   "execution_count": null,
   "metadata": {},
   "outputs": [],
   "source": [
    "## your code here to print the head"
   ]
  },
  {
   "cell_type": "code",
   "execution_count": 26,
   "metadata": {},
   "outputs": [
    {
     "data": {
      "text/html": [
       "<div>\n",
       "<style scoped>\n",
       "    .dataframe tbody tr th:only-of-type {\n",
       "        vertical-align: middle;\n",
       "    }\n",
       "\n",
       "    .dataframe tbody tr th {\n",
       "        vertical-align: top;\n",
       "    }\n",
       "\n",
       "    .dataframe thead th {\n",
       "        text-align: right;\n",
       "    }\n",
       "</style>\n",
       "<table border=\"1\" class=\"dataframe\">\n",
       "  <thead>\n",
       "    <tr style=\"text-align: right;\">\n",
       "      <th></th>\n",
       "      <th>Name</th>\n",
       "      <th>name_clean</th>\n",
       "    </tr>\n",
       "  </thead>\n",
       "  <tbody>\n",
       "    <tr>\n",
       "      <th>3</th>\n",
       "      <td>ANTON FERTILIZER INC.</td>\n",
       "      <td>ANTON FERTILIZER INC</td>\n",
       "    </tr>\n",
       "    <tr>\n",
       "      <th>4</th>\n",
       "      <td>GREAT PLAINS FLUID SERVICE, INC.</td>\n",
       "      <td>GREAT PLAINS FLUID SERVICE, INC</td>\n",
       "    </tr>\n",
       "    <tr>\n",
       "      <th>5</th>\n",
       "      <td>PROMAX INC.</td>\n",
       "      <td>PROMAX INC</td>\n",
       "    </tr>\n",
       "    <tr>\n",
       "      <th>13</th>\n",
       "      <td>REIMER'S INC.</td>\n",
       "      <td>REIMER'S INC</td>\n",
       "    </tr>\n",
       "    <tr>\n",
       "      <th>19</th>\n",
       "      <td>CISCO PRODUCE INC.</td>\n",
       "      <td>CISCO PRODUCE INC</td>\n",
       "    </tr>\n",
       "  </tbody>\n",
       "</table>\n",
       "</div>"
      ],
      "text/plain": [
       "                                Name                       name_clean\n",
       "3              ANTON FERTILIZER INC.             ANTON FERTILIZER INC\n",
       "4   GREAT PLAINS FLUID SERVICE, INC.  GREAT PLAINS FLUID SERVICE, INC\n",
       "5                        PROMAX INC.                       PROMAX INC\n",
       "13                     REIMER'S INC.                     REIMER'S INC\n",
       "19                CISCO PRODUCE INC.                CISCO PRODUCE INC"
      ]
     },
     "execution_count": 26,
     "metadata": {},
     "output_type": "execute_result"
    },
    {
     "data": {
      "text/html": [
       "<div>\n",
       "<style scoped>\n",
       "    .dataframe tbody tr th:only-of-type {\n",
       "        vertical-align: middle;\n",
       "    }\n",
       "\n",
       "    .dataframe tbody tr th {\n",
       "        vertical-align: top;\n",
       "    }\n",
       "\n",
       "    .dataframe thead th {\n",
       "        text-align: right;\n",
       "    }\n",
       "</style>\n",
       "<table border=\"1\" class=\"dataframe\">\n",
       "  <thead>\n",
       "    <tr style=\"text-align: right;\">\n",
       "      <th></th>\n",
       "      <th>EMPLOYER_NAME</th>\n",
       "      <th>name_clean</th>\n",
       "    </tr>\n",
       "  </thead>\n",
       "  <tbody>\n",
       "    <tr>\n",
       "      <th>4</th>\n",
       "      <td>DUNSON HARVESTING, INC.</td>\n",
       "      <td>DUNSON HARVESTING, INC</td>\n",
       "    </tr>\n",
       "    <tr>\n",
       "      <th>7</th>\n",
       "      <td>FARM LABOR ASSOCIATION FOR GROWERS, INC.</td>\n",
       "      <td>FARM LABOR ASSOCIATION FOR GROWERS, INC</td>\n",
       "    </tr>\n",
       "    <tr>\n",
       "      <th>14</th>\n",
       "      <td>MCLAIN FARMS, INC.</td>\n",
       "      <td>MCLAIN FARMS, INC</td>\n",
       "    </tr>\n",
       "    <tr>\n",
       "      <th>17</th>\n",
       "      <td>BONNIE PLANTS, INC.</td>\n",
       "      <td>BONNIE PLANTS, INC</td>\n",
       "    </tr>\n",
       "    <tr>\n",
       "      <th>18</th>\n",
       "      <td>B &amp; W QUALITY GROWERS, INC.</td>\n",
       "      <td>B &amp; W QUALITY GROWERS, INC</td>\n",
       "    </tr>\n",
       "  </tbody>\n",
       "</table>\n",
       "</div>"
      ],
      "text/plain": [
       "                               EMPLOYER_NAME  \\\n",
       "4                    DUNSON HARVESTING, INC.   \n",
       "7   FARM LABOR ASSOCIATION FOR GROWERS, INC.   \n",
       "14                        MCLAIN FARMS, INC.   \n",
       "17                       BONNIE PLANTS, INC.   \n",
       "18               B & W QUALITY GROWERS, INC.   \n",
       "\n",
       "                                 name_clean  \n",
       "4                    DUNSON HARVESTING, INC  \n",
       "7   FARM LABOR ASSOCIATION FOR GROWERS, INC  \n",
       "14                        MCLAIN FARMS, INC  \n",
       "17                       BONNIE PLANTS, INC  \n",
       "18               B & W QUALITY GROWERS, INC  "
      ]
     },
     "execution_count": 26,
     "metadata": {},
     "output_type": "execute_result"
    }
   ],
   "source": [
    "debar[['Name', 'name_clean']][debar['Name'] != debar['name_clean']].head()\n",
    "jobs[['EMPLOYER_NAME', 'name_clean']][jobs['EMPLOYER_NAME'] != jobs['name_clean']].head()"
   ]
  },
  {
   "cell_type": "markdown",
   "metadata": {},
   "source": [
    "## 2.4 More joins and more cleaning (5 points)\n",
    "\n",
    "A. Conduct another inner join between `jobs` and `debar_clean` now using the `name_clean` column; print the result. Did the cleaning result in any more employers matched between the two datasets?\n",
    "\n",
    "B. Create a new column in `debar_clean` called `name_clean_2` that uses regex to take the following name in that dataset:\n",
    "\n",
    "- `SLASH E.V. RANCH LLP` in the `debar_clean` dataset\n",
    "\n",
    "And cleans it up so that it matches with this employer in `jobs`\n",
    "\n",
    "- `SLASH EV RANCH` in the `jobs` dataset\n",
    "\n",
    "Eg a pattern to remove the dots in the EV and the space+LLP-- you can apply the pattern to all employer names in debar_clean (so don't need to worry about only applying it to that one employer)\n",
    "\n",
    "\n",
    "C. Conduct a left join using `name_clean_2` as the join column where the left hand dataframe is `jobs`; right hand dataframe is `debar_clean`, store the result as a dataframe, and print the rows where the merge indicator indicates the row was found in both dataframe\n",
    "\n",
    "**Note**: this manual cleaning process is inefficient and helps motivate why talked about fuzzy matching. Fuzzy matching could recognize that Slash EV ranch is a highly similar string to slash ev ranch llp and match them without us needing to use regex to make the strings identical."
   ]
  },
  {
   "cell_type": "code",
   "execution_count": 28,
   "metadata": {},
   "outputs": [],
   "source": [
    "df24 = jobs.merge(debar, on = 'name_clean')\n",
    "print(df24)"
   ]
  },
  {
   "cell_type": "code",
   "execution_count": 36,
   "metadata": {},
   "outputs": [],
   "source": [
    "debar['name_clean_2'] = [re.sub(r'E.V. RANCH LLP', 'EV RANCH', c) for c in debar.name_clean]"
   ]
  },
  {
   "cell_type": "code",
   "execution_count": 39,
   "metadata": {},
   "outputs": [
    {
     "data": {
      "text/html": [
       "<div>\n",
       "<style scoped>\n",
       "    .dataframe tbody tr th:only-of-type {\n",
       "        vertical-align: middle;\n",
       "    }\n",
       "\n",
       "    .dataframe tbody tr th {\n",
       "        vertical-align: top;\n",
       "    }\n",
       "\n",
       "    .dataframe thead th {\n",
       "        text-align: right;\n",
       "    }\n",
       "</style>\n",
       "<table border=\"1\" class=\"dataframe\">\n",
       "  <thead>\n",
       "    <tr style=\"text-align: right;\">\n",
       "      <th></th>\n",
       "      <th>CASE_NUMBER</th>\n",
       "      <th>CASE_STATUS</th>\n",
       "      <th>RECEIVED_DATE</th>\n",
       "      <th>DECISION_DATE</th>\n",
       "      <th>TYPE_OF_EMPLOYER_APPLICATION</th>\n",
       "      <th>H2A_LABOR_CONTRACTOR</th>\n",
       "      <th>NATURE_OF_TEMPORARY_NEED</th>\n",
       "      <th>EMERGENCY_FILING</th>\n",
       "      <th>EMPLOYER_NAME</th>\n",
       "      <th>TRADE_NAME_DBA</th>\n",
       "      <th>...</th>\n",
       "      <th>name_clean_x</th>\n",
       "      <th>Name</th>\n",
       "      <th>City, State</th>\n",
       "      <th>Violation</th>\n",
       "      <th>Duration</th>\n",
       "      <th>Start date</th>\n",
       "      <th>End date</th>\n",
       "      <th>name_clean_y</th>\n",
       "      <th>name_clean_2</th>\n",
       "      <th>_merge</th>\n",
       "    </tr>\n",
       "  </thead>\n",
       "  <tbody>\n",
       "    <tr>\n",
       "      <th>791</th>\n",
       "      <td>H-300-20287-876656</td>\n",
       "      <td>Determination Issued - Certification</td>\n",
       "      <td>2020-10-20 09:20:32.010</td>\n",
       "      <td>2020-11-09 00:00:00.000</td>\n",
       "      <td>Individual Employer</td>\n",
       "      <td>Y</td>\n",
       "      <td>Seasonal</td>\n",
       "      <td>Y</td>\n",
       "      <td>RAFAEL BARAJAS</td>\n",
       "      <td>NaN</td>\n",
       "      <td>...</td>\n",
       "      <td>RAFAEL BARAJAS</td>\n",
       "      <td>RAFAEL BARAJAS</td>\n",
       "      <td>Sebring, Florida</td>\n",
       "      <td>Non-payment of certification fee</td>\n",
       "      <td>1 year</td>\n",
       "      <td>9/23/2016</td>\n",
       "      <td>9/22/2017</td>\n",
       "      <td>RAFAEL BARAJAS</td>\n",
       "      <td>RAFAEL BARAJAS</td>\n",
       "      <td>both</td>\n",
       "    </tr>\n",
       "    <tr>\n",
       "      <th>1115</th>\n",
       "      <td>H-300-20306-894148</td>\n",
       "      <td>Determination Issued - Certification</td>\n",
       "      <td>2020-11-02 18:11:29.140</td>\n",
       "      <td>2020-11-24 00:00:00.000</td>\n",
       "      <td>Individual Employer</td>\n",
       "      <td>N</td>\n",
       "      <td>Seasonal</td>\n",
       "      <td>N</td>\n",
       "      <td>SLASH EV RANCH</td>\n",
       "      <td>NaN</td>\n",
       "      <td>...</td>\n",
       "      <td>SLASH EV RANCH</td>\n",
       "      <td>SLASH E.V. RANCH LLP</td>\n",
       "      <td>Rifle, CO</td>\n",
       "      <td>WHD Debarment</td>\n",
       "      <td>1 year</td>\n",
       "      <td>11/15/2014</td>\n",
       "      <td>11/14/2015</td>\n",
       "      <td>SLASH E.V. RANCH LLP</td>\n",
       "      <td>SLASH EV RANCH</td>\n",
       "      <td>both</td>\n",
       "    </tr>\n",
       "  </tbody>\n",
       "</table>\n",
       "<p>2 rows × 148 columns</p>\n",
       "</div>"
      ],
      "text/plain": [
       "             CASE_NUMBER                           CASE_STATUS  \\\n",
       "791   H-300-20287-876656  Determination Issued - Certification   \n",
       "1115  H-300-20306-894148  Determination Issued - Certification   \n",
       "\n",
       "                RECEIVED_DATE            DECISION_DATE  \\\n",
       "791   2020-10-20 09:20:32.010  2020-11-09 00:00:00.000   \n",
       "1115  2020-11-02 18:11:29.140  2020-11-24 00:00:00.000   \n",
       "\n",
       "     TYPE_OF_EMPLOYER_APPLICATION H2A_LABOR_CONTRACTOR  \\\n",
       "791           Individual Employer                    Y   \n",
       "1115          Individual Employer                    N   \n",
       "\n",
       "     NATURE_OF_TEMPORARY_NEED EMERGENCY_FILING   EMPLOYER_NAME TRADE_NAME_DBA  \\\n",
       "791                  Seasonal                Y  RAFAEL BARAJAS            NaN   \n",
       "1115                 Seasonal                N  SLASH EV RANCH            NaN   \n",
       "\n",
       "      ...    name_clean_x                  Name       City, State  \\\n",
       "791   ...  RAFAEL BARAJAS        RAFAEL BARAJAS  Sebring, Florida   \n",
       "1115  ...  SLASH EV RANCH  SLASH E.V. RANCH LLP         Rifle, CO   \n",
       "\n",
       "                             Violation Duration  Start date    End date  \\\n",
       "791   Non-payment of certification fee   1 year   9/23/2016   9/22/2017   \n",
       "1115                     WHD Debarment   1 year  11/15/2014  11/14/2015   \n",
       "\n",
       "              name_clean_y    name_clean_2  _merge  \n",
       "791         RAFAEL BARAJAS  RAFAEL BARAJAS    both  \n",
       "1115  SLASH E.V. RANCH LLP  SLASH EV RANCH    both  \n",
       "\n",
       "[2 rows x 148 columns]"
      ]
     },
     "execution_count": 39,
     "metadata": {},
     "output_type": "execute_result"
    }
   ],
   "source": [
    "df24c = jobs.merge(debar, left_on = 'name_clean', right_on = 'name_clean_2', how = 'left', indicator = True)\n",
    "df24c[df24c['_merge'] == 'both']"
   ]
  },
  {
   "cell_type": "markdown",
   "metadata": {},
   "source": [
    "# 3. Optional extra credit 1: regex to separate companies from individuals (1 point)\n",
    "\n",
    "You notice some employers in `debar_clean` have both the name of the company and the name of individual, e.g.:\n",
    "    \n",
    "COUNTY FAIR FARM (COMPANY) AND ANDREW WILLIAMSON (INDIVIDUAL)*\n",
    "\n",
    "Use the uppercase/cleaned `name_clean` in `debar_clean`\n",
    "\n",
    "A. Write a regex pattern that does the following:\n",
    "    - Captures the pattern that occurs before COMPANY if (COMPANY) is in string; so in example above, extracts COUNTY FAIR FARM \n",
    "    - Captures the pattern that occurs before INDIVIDUAL if (INDIVIDUAL) is also in string -- so in above, extracts ANDREW WILLIAMSON (so omit the \"and\")\n",
    "    \n",
    "B. Test the pattern on `pos_example` and `neg_example`-- make sure former returns a list (if using find.all) or match object (if using re.search) with the company name and individual name separated out; make sure latter returns empty\n",
    "    \n",
    "**Hints and resources**: for step A, you can either use re.search, re.match, or re.findall; don't worry about matching B&R Harvesting and Paul Cruz (Individual)\n",
    "\n",
    "- Same regex resources as above\n",
    "    "
   ]
  },
  {
   "cell_type": "code",
   "execution_count": null,
   "metadata": {},
   "outputs": [],
   "source": [
    "pos_example = \"COUNTY FAIR FARM (COMPANY) AND ANDREW WILLIAMSON (INDIVIDUAL)*\"\n",
    "neg_example = \"CISCO PRODUCE INC\"\n",
    "\n",
    "## your code here to define the pattern\n",
    "\n",
    "## your code here to apply it to the pos_example\n",
    "\n",
    "## your code here to apply it to the negative example"
   ]
  },
  {
   "cell_type": "markdown",
   "metadata": {},
   "source": [
    "C. Iterate over the `name_clean` column in debar and use regex to create two new columns in `debar_clean`:\n",
    "   - `co_name`: A column for company (full `name_clean` string if no match; pattern before COMPANY if one extracted)\n",
    "   - `ind_name`: A column for individual (full `name_clean` string if no match; pattern before INDIVIDUAL if one extracted)\n",
    " \n"
   ]
  },
  {
   "cell_type": "code",
   "execution_count": null,
   "metadata": {},
   "outputs": [],
   "source": [
    "# your code here"
   ]
  },
  {
   "cell_type": "markdown",
   "metadata": {},
   "source": [
    "   \n",
    "D. Print three columns for the rows in `debar_clean` containing the negative example and positive example described above (county fair farm and cisco produce):\n",
    "\n",
    "- `name_clean`\n",
    "- `co_name`\n",
    "- `ind_name`\n",
    "- `Violation`\n",
    "\n",
    "**Note**: as shown in the outcome there may be duplicates of the same company reflecting different violations"
   ]
  },
  {
   "cell_type": "code",
   "execution_count": null,
   "metadata": {},
   "outputs": [],
   "source": [
    "# your code here"
   ]
  },
  {
   "cell_type": "markdown",
   "metadata": {},
   "source": []
  },
  {
   "cell_type": "markdown",
   "metadata": {},
   "source": [
    "# 4. Optional extra credit 2 (up to 3 points)\n",
    "\n",
    "- For 1 point extra credit, create a visualization with 1+ of the existing fields in either the raw `jobs` or `debar` data. We'll be showing cool visualizations in class so use your imagination! Options could include visualizing between-state or over-time variation\n",
    "\n",
    "- For 3 points extra credit instead, geocode the employer addresses in `jobs` and plot the addresses of jobs as points overlaid on top of a map of Georgia \n",
    "    - **Note**: this extra credit involves Googling since we have not yet covered spatial data. \n",
    "        - For discussion of how to geocode addresses -> lat/long, see: https://www.natasshaselvaraj.com/a-step-by-step-guide-on-geocoding-in-python/ \n",
    "        - For discussion of plotting lat/long dots against a map, see this discussion of geopandas: https://towardsdatascience.com/plotting-maps-with-geopandas-428c97295a73\n",
    "    - Relevant columns include `EMPLOYER_ADDRESS_1` \n",
    "    - The geocoding might have a long runtime so feel free to implement it in a separate .py script that you submit alongside your notebook and to just read in the geocoded data"
   ]
  },
  {
   "cell_type": "code",
   "execution_count": null,
   "metadata": {},
   "outputs": [],
   "source": [
    "## your code here"
   ]
  }
 ],
 "metadata": {
  "kernelspec": {
   "display_name": "Python 3 (ipykernel)",
   "language": "python",
   "name": "python3"
  },
  "language_info": {
   "codemirror_mode": {
    "name": "ipython",
    "version": 3
   },
   "file_extension": ".py",
   "mimetype": "text/x-python",
   "name": "python",
   "nbconvert_exporter": "python",
   "pygments_lexer": "ipython3",
   "version": "3.11.4"
  }
 },
 "nbformat": 4,
 "nbformat_minor": 4
}
